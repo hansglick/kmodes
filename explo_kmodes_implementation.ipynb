{
 "cells": [
  {
   "cell_type": "code",
   "execution_count": 1,
   "metadata": {},
   "outputs": [],
   "source": [
    "import numpy as np\n",
    "import pandas as pd"
   ]
  },
  {
   "cell_type": "markdown",
   "metadata": {},
   "source": [
    "# Implémentation de l'algorithme k-modes"
   ]
  },
  {
   "cell_type": "markdown",
   "metadata": {},
   "source": [
    "### Simulation de données"
   ]
  },
  {
   "cell_type": "markdown",
   "metadata": {},
   "source": [
    "Il doit exister deux groupes : \n",
    " * Les individus vivant à Marseille qui aiment le foot\n",
    " * Les individus vivant à New York qui aiment le basket\n",
    " * Le salaire, l'expérience sont uniformément distribués"
   ]
  },
  {
   "cell_type": "code",
   "execution_count": 17,
   "metadata": {},
   "outputs": [],
   "source": [
    "# Parametres de la simulation\n",
    "#\n",
    "salaires_choices = np.array([\"riche\",\"moyen\",\"pauvre\"])\n",
    "experience_choices = np.array([\"expert\",\"moyen\",\"nul\"])\n",
    "hobby_choices = np.array([\"foot\",\"basket\",\"tennis\"])\n",
    "location_choices = np.array([\"Marseille\",\"New York\",\"Mexico\"])\n",
    "#\n",
    "p_location = np.array([0.4,0.4,0.2])\n",
    "p_marseille_hobby = np.array([0.8,0.1,0.1])\n",
    "p_newyork_hobby = np.array([0.1,0.8,0.1])\n",
    "p_experience = np.array([0.1,0.3,0.6])\n",
    "p_salaire = np.array([0.1,0.3,0.6])"
   ]
  },
  {
   "cell_type": "code",
   "execution_count": 18,
   "metadata": {},
   "outputs": [],
   "source": [
    "# Construction du dataframe I\n",
    "data_ville = np.random.choice(location_choices,size = 100, p = p_location)\n",
    "data_experience = np.random.choice(experience_choices,size = 100, p = p_experience)\n",
    "data_salaire = np.random.choice(salaires_choices,size = 100, p = p_salaire)\n",
    "dic = {\"ville\" : data_ville,\"experience\" : data_experience,\"salaire\" : data_salaire}\n",
    "ville_pop = pd.Series(data_ville).value_counts()\n",
    "df = pd.DataFrame.from_dict(data = dic, orient = \"columns\").sort_values([\"ville\"])\n",
    "df.head()"
   ]
  },
  {
   "cell_type": "code",
   "execution_count": 19,
   "metadata": {},
   "outputs": [],
   "source": [
    "# Construction du dataframe II\n",
    "hobby_marseille = np.random.choice(hobby_choices,\n",
    "                                   size = ville_pop[\"Marseille\"],\n",
    "                                   p = p_marseille_hobby)\n",
    "hobby_mexico = np.random.choice(hobby_choices,size = ville_pop[\"Mexico\"])\n",
    "hobby_newyork = np.random.choice(hobby_choices,\n",
    "                                   size = ville_pop[\"New York\"],\n",
    "                                   p = p_newyork_hobby)\n",
    "df[\"hobby\"] = np.hstack((hobby_marseille,hobby_mexico,hobby_newyork))"
   ]
  },
  {
   "cell_type": "markdown",
   "metadata": {},
   "source": [
    "### Les fonctions de l'implémenation k-modes quick and dirty"
   ]
  },
  {
   "cell_type": "code",
   "execution_count": 68,
   "metadata": {},
   "outputs": [],
   "source": [
    "def pickup_centroids(df,k):\n",
    "    centroids_idx = np.random.choice(a = df.index.values, replace = False, size = k)\n",
    "    centroid_a = df.loc[centroids_idx[0]].values\n",
    "    centroid_b = df.loc[centroids_idx[1]].values\n",
    "    return(centroid_a,centroid_b)"
   ]
  },
  {
   "cell_type": "code",
   "execution_count": 69,
   "metadata": {},
   "outputs": [],
   "source": [
    "def distance_mismatch(a,b):\n",
    "    return (a != b).sum()"
   ]
  },
  {
   "cell_type": "code",
   "execution_count": 79,
   "metadata": {},
   "outputs": [],
   "source": [
    "def compute_distances_to_centroids(centroid_a,centroid_b,df):\n",
    "    \n",
    "    dic_distances = {}\n",
    "    for idx,row in df.iterrows():\n",
    "        candidat = row.values\n",
    "        distance_to_a = distance_mismatch(candidat,centroid_a)\n",
    "        distance_to_b = distance_mismatch(candidat,centroid_b)\n",
    "        affectation = np.argmin([distance_to_a,distance_to_b])\n",
    "        dic_distances[idx] = {\"distance_to_a\" : distance_to_a,\n",
    "                              \"distance_to_b\" : distance_to_b,\n",
    "                              \"affectation\" : affectation}\n",
    "        \n",
    "    return dic_distances"
   ]
  },
  {
   "cell_type": "code",
   "execution_count": 217,
   "metadata": {},
   "outputs": [],
   "source": [
    "def extract_assigned_data(dic_distances,df):\n",
    "    alist = []\n",
    "    blist = []\n",
    "    for k,v in dic_distances.items():\n",
    "        if v[\"affectation\"] == 0:\n",
    "            alist.append(df.loc[k].values)\n",
    "        else:\n",
    "            blist.append(df.loc[k].values)\n",
    "    \n",
    "    if len(alist)>0:\n",
    "        a = np.vstack(alist)\n",
    "    else:\n",
    "        a = np.array([])\n",
    "        \n",
    "    if len(blist)>0:\n",
    "        b = np.vstack(blist)\n",
    "    else:\n",
    "        b = np.array([])\n",
    "        \n",
    "    return a,b"
   ]
  },
  {
   "cell_type": "code",
   "execution_count": 108,
   "metadata": {},
   "outputs": [],
   "source": [
    "def compute_mode(array):\n",
    "    return ((np.sum(array,axis = 0) - array.shape[0]/2) > 0).astype(int)"
   ]
  },
  {
   "cell_type": "code",
   "execution_count": 202,
   "metadata": {},
   "outputs": [],
   "source": [
    "def compute_performance(dic_distances):\n",
    "    \n",
    "    distances_list = []\n",
    "    \n",
    "    for k,v in dic_distances.items():\n",
    "        if v[\"affectation\"] == 0:\n",
    "            distances_list.append(v[\"distance_to_a\"])\n",
    "        else:\n",
    "            distances_list.append(v[\"distance_to_b\"])\n",
    "    return (np.array(distances_list)).sum()"
   ]
  },
  {
   "cell_type": "code",
   "execution_count": 228,
   "metadata": {},
   "outputs": [],
   "source": [
    "def get_max_id(diccy,thekey):\n",
    "\n",
    "    best_p = np.inf\n",
    "    \n",
    "    for k,v in diccy.items():\n",
    "        p = v[thekey]\n",
    "        if p < best_p:\n",
    "            best_p = p\n",
    "            best_idx = k\n",
    "    \n",
    "    return best_idx"
   ]
  },
  {
   "cell_type": "code",
   "execution_count": 235,
   "metadata": {},
   "outputs": [],
   "source": [
    "def kmodes(df,k=2,threshold=1,iterations=10, verbose = True, n_clusterings = 5):\n",
    "    \n",
    "    dic_results = {}\n",
    "    \n",
    "    for id_clustering in range(n_clusterings):\n",
    "    \n",
    "        # Init centroids\n",
    "        centroid_a,centroid_b = pickup_centroids(df,k)\n",
    "\n",
    "        for i in range(iterations):\n",
    "            if verbose:\n",
    "                print(\"iteration : \",i)\n",
    "                print(df.columns.values[centroid_a.astype(bool)])\n",
    "                print(df.columns.values[centroid_b.astype(bool)])\n",
    "            dic_distances = compute_distances_to_centroids(centroid_a,centroid_b,df)\n",
    "            array_a,array_b = extract_assigned_data(dic_distances,df)\n",
    "\n",
    "            mycdt = len(array_a)==0 or len(array_b)==0\n",
    "            if verbose:\n",
    "                print(mycdt)\n",
    "            if mycdt:\n",
    "                continue\n",
    "\n",
    "            futur_centroid_a = compute_mode(array_a)\n",
    "            futur_centroid_b = compute_mode(array_b)\n",
    "            d = distance_mismatch(futur_centroid_a,centroid_a) + distance_mismatch(futur_centroid_b,centroid_b)\n",
    "            if verbose:\n",
    "                print(\"distance parcourue : \", d)\n",
    "                print(\"\")\n",
    "\n",
    "            if d<threshold:\n",
    "                break\n",
    "            centroid_a = futur_centroid_a\n",
    "            centroid_b = futur_centroid_b\n",
    "            \n",
    "        performance = compute_performance(dic_distances)\n",
    "        dic_results[id_clustering] = {\"performance\" : performance,\n",
    "                                      \"dic_distances\" : dic_distances,\n",
    "                                      \"array_a\" : array_a,\n",
    "                                      \"array_b\" : array_b}\n",
    "    \n",
    "    idx_max = get_max_id(dic_results,\"performance\")\n",
    "    dic_distances = dic_results[idx_max][\"dic_distances\"]\n",
    "    array_a = dic_results[idx_max][\"array_a\"]\n",
    "    array_b = dic_results[idx_max][\"array_b\"]\n",
    "    \n",
    "    clustering_df = pd.DataFrame.from_dict(dic_distances,orient=\"index\")\n",
    "    clustering_df.drop(['distance_to_a',\"distance_to_b\"], axis=1, inplace = True) \n",
    "    stats_value_cluster_a = np.sum(array_a,axis = 0) / array_a.shape[0]\n",
    "    cluster_a_caracterisation = stats_value_cluster_a / (df.sum(axis = 0) / len(df))\n",
    "    stats_value_cluster_b = np.sum(array_b,axis = 0) / array_b.shape[0]\n",
    "    cluster_b_caracterisation = stats_value_cluster_b / (df.sum(axis = 0) / len(df))\n",
    "    clusters_caracterisation = pd.concat([cluster_a_caracterisation,cluster_b_caracterisation],axis = 1)\n",
    "    \n",
    "    return clustering_df,clusters_caracterisation\n",
    "    "
   ]
  },
  {
   "cell_type": "markdown",
   "metadata": {},
   "source": [
    "### Test de la fonction kmodes"
   ]
  },
  {
   "cell_type": "code",
   "execution_count": 239,
   "metadata": {},
   "outputs": [
    {
     "data": {
      "text/html": [
       "<div>\n",
       "<style scoped>\n",
       "    .dataframe tbody tr th:only-of-type {\n",
       "        vertical-align: middle;\n",
       "    }\n",
       "\n",
       "    .dataframe tbody tr th {\n",
       "        vertical-align: top;\n",
       "    }\n",
       "\n",
       "    .dataframe thead th {\n",
       "        text-align: right;\n",
       "    }\n",
       "</style>\n",
       "<table border=\"1\" class=\"dataframe\">\n",
       "  <thead>\n",
       "    <tr style=\"text-align: right;\">\n",
       "      <th></th>\n",
       "      <th>0</th>\n",
       "      <th>1</th>\n",
       "    </tr>\n",
       "  </thead>\n",
       "  <tbody>\n",
       "    <tr>\n",
       "      <th>ville_Marseille</th>\n",
       "      <td>0.266075</td>\n",
       "      <td>1.897019</td>\n",
       "    </tr>\n",
       "    <tr>\n",
       "      <th>ville_Mexico</th>\n",
       "      <td>0.606061</td>\n",
       "      <td>1.481481</td>\n",
       "    </tr>\n",
       "    <tr>\n",
       "      <th>ville_New York</th>\n",
       "      <td>1.740812</td>\n",
       "      <td>0.094563</td>\n",
       "    </tr>\n",
       "    <tr>\n",
       "      <th>experience_expert</th>\n",
       "      <td>1.398601</td>\n",
       "      <td>0.512821</td>\n",
       "    </tr>\n",
       "    <tr>\n",
       "      <th>experience_moyen</th>\n",
       "      <td>0.571429</td>\n",
       "      <td>1.523810</td>\n",
       "    </tr>\n",
       "    <tr>\n",
       "      <th>experience_nul</th>\n",
       "      <td>1.188811</td>\n",
       "      <td>0.769231</td>\n",
       "    </tr>\n",
       "    <tr>\n",
       "      <th>salaire_moyen</th>\n",
       "      <td>0.821114</td>\n",
       "      <td>1.218638</td>\n",
       "    </tr>\n",
       "    <tr>\n",
       "      <th>salaire_pauvre</th>\n",
       "      <td>1.191223</td>\n",
       "      <td>0.766284</td>\n",
       "    </tr>\n",
       "    <tr>\n",
       "      <th>salaire_riche</th>\n",
       "      <td>0.495868</td>\n",
       "      <td>1.616162</td>\n",
       "    </tr>\n",
       "    <tr>\n",
       "      <th>hobby_basket</th>\n",
       "      <td>1.669759</td>\n",
       "      <td>0.181406</td>\n",
       "    </tr>\n",
       "    <tr>\n",
       "      <th>hobby_foot</th>\n",
       "      <td>0.093240</td>\n",
       "      <td>2.108262</td>\n",
       "    </tr>\n",
       "    <tr>\n",
       "      <th>hobby_tennis</th>\n",
       "      <td>1.212121</td>\n",
       "      <td>0.740741</td>\n",
       "    </tr>\n",
       "  </tbody>\n",
       "</table>\n",
       "</div>"
      ],
      "text/plain": [
       "                          0         1\n",
       "ville_Marseille    0.266075  1.897019\n",
       "ville_Mexico       0.606061  1.481481\n",
       "ville_New York     1.740812  0.094563\n",
       "experience_expert  1.398601  0.512821\n",
       "experience_moyen   0.571429  1.523810\n",
       "experience_nul     1.188811  0.769231\n",
       "salaire_moyen      0.821114  1.218638\n",
       "salaire_pauvre     1.191223  0.766284\n",
       "salaire_riche      0.495868  1.616162\n",
       "hobby_basket       1.669759  0.181406\n",
       "hobby_foot         0.093240  2.108262\n",
       "hobby_tennis       1.212121  0.740741"
      ]
     },
     "execution_count": 239,
     "metadata": {},
     "output_type": "execute_result"
    }
   ],
   "source": [
    "df = pd.get_dummies(df)\n",
    "solution_clustering = kmodes(df, verbose = False)\n",
    "solution_clustering[1]"
   ]
  }
 ],
 "metadata": {
  "kernelspec": {
   "display_name": "Python [conda env:test_aquila]",
   "language": "python",
   "name": "conda-env-test_aquila-py"
  },
  "language_info": {
   "codemirror_mode": {
    "name": "ipython",
    "version": 3
   },
   "file_extension": ".py",
   "mimetype": "text/x-python",
   "name": "python",
   "nbconvert_exporter": "python",
   "pygments_lexer": "ipython3",
   "version": "3.6.7"
  }
 },
 "nbformat": 4,
 "nbformat_minor": 2
}
